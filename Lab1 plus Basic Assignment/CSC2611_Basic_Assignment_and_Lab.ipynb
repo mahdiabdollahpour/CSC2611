{
  "cells": [
    {
      "cell_type": "markdown",
      "metadata": {
        "id": "2lkzqtslfqMq"
      },
      "source": [
        "# Basic Assignment"
      ]
    },
    {
      "cell_type": "code",
      "execution_count": 51,
      "metadata": {
        "colab": {
          "base_uri": "https://localhost:8080/"
        },
        "id": "Q4iEo9bBZZwU",
        "outputId": "5c55b380-5b94-4d26-a86c-1fefd5842e5b"
      },
      "outputs": [
        {
          "output_type": "stream",
          "name": "stdout",
          "text": [
            "[nltk_data] Downloading package stopwords to /root/nltk_data...\n",
            "[nltk_data]   Package stopwords is already up-to-date!\n",
            "[nltk_data] Downloading package brown to /root/nltk_data...\n",
            "[nltk_data]   Package brown is already up-to-date!\n",
            "['The', 'Fulton', 'County', 'Grand', 'Jury', 'said', ...]\n"
          ]
        }
      ],
      "source": [
        "import nltk\n",
        "from nltk.corpus import brown\n",
        "import numpy as np\n",
        "from nltk.corpus import brown, stopwords\n",
        "import string\n",
        "\n",
        "from sklearn.decomposition import PCA,TruncatedSVD\n",
        "from sklearn.metrics.pairwise import cosine_similarity\n",
        "from scipy import stats\n",
        "from scipy.sparse import coo_matrix,lil_matrix\n",
        "from collections import Counter\n",
        "\n",
        "puncs = [p for p in string.punctuation]\n",
        "nltk.download('stopwords')\n",
        "stopwords = stopwords.words('english')\n",
        "\n",
        "nltk.download('brown')\n",
        "bw = brown.words()\n",
        "print(bw)"
      ]
    },
    {
      "cell_type": "code",
      "execution_count": 53,
      "metadata": {
        "colab": {
          "base_uri": "https://localhost:8080/"
        },
        "id": "ZcoQjVpv80ne",
        "outputId": "ece4ace5-2560-43a3-c10e-8b69b8aa0b85"
      },
      "outputs": [
        {
          "output_type": "stream",
          "name": "stdout",
          "text": [
            "1161192\n"
          ]
        }
      ],
      "source": [
        "print(len(bw))"
      ]
    },
    {
      "cell_type": "code",
      "source": [
        "def if_contains(sett,word):\n",
        "  for sign in sett:\n",
        "    if sign in word:\n",
        "      return True\n",
        "  return False"
      ],
      "metadata": {
        "id": "AzI9Hwl5DfTt"
      },
      "execution_count": 55,
      "outputs": []
    },
    {
      "cell_type": "code",
      "execution_count": 56,
      "metadata": {
        "id": "1EvyNS2Zbv1H"
      },
      "outputs": [],
      "source": [
        "import re\n",
        "bw = [w.lower() for w in bw if not if_contains(puncs,w) and w not in stopwords]"
      ]
    },
    {
      "cell_type": "code",
      "execution_count": 57,
      "metadata": {
        "colab": {
          "base_uri": "https://localhost:8080/"
        },
        "id": "lFctd3lv82gO",
        "outputId": "a315acf9-cd33-44ea-92c4-c1f3a7cff31d"
      },
      "outputs": [
        {
          "output_type": "stream",
          "name": "stdout",
          "text": [
            "556761\n"
          ]
        }
      ],
      "source": [
        "print(len(bw))"
      ]
    },
    {
      "cell_type": "code",
      "execution_count": 58,
      "metadata": {
        "id": "ZmNHf2KNacKt"
      },
      "outputs": [],
      "source": [
        "counts = Counter(bw)"
      ]
    },
    {
      "cell_type": "code",
      "execution_count": 59,
      "metadata": {
        "id": "UZJbIbe-alUV"
      },
      "outputs": [],
      "source": [
        "a = list(counts.items())\n",
        "a.sort(reverse=True, key=lambda tup: tup[1]) #https://stackoverflow.com/questions/2290962/python-how-to-get-sorted-count-of-items-in-a-list\n",
        "a = a[:5000]"
      ]
    },
    {
      "cell_type": "code",
      "execution_count": 60,
      "metadata": {
        "colab": {
          "base_uri": "https://localhost:8080/"
        },
        "id": "0eVOnJDLbC0N",
        "outputId": "51e1220e-e1cb-4b4d-9fea-966fb0bdd3e2"
      },
      "outputs": [
        {
          "output_type": "stream",
          "name": "stdout",
          "text": [
            "[('the', 7258), ('i', 5161), ('one', 3292), ('he', 2982), ('would', 2714)]\n",
            "[('daytime', 19), ('amen', 19), ('dim', 19), ('distances', 19), ('puzzled', 19)]\n"
          ]
        }
      ],
      "source": [
        "print(a[:5])\n",
        "print(a[-5:])"
      ]
    },
    {
      "cell_type": "markdown",
      "metadata": {
        "id": "Eh8aYOMNfXPv"
      },
      "source": [
        "## Pairs"
      ]
    },
    {
      "cell_type": "code",
      "execution_count": 61,
      "metadata": {
        "id": "4612Q6fuio2W"
      },
      "outputs": [],
      "source": [
        "pairs = [['cord', 'smile'],\n",
        "       ['rooster', 'voyage'],\n",
        "       ['noon', 'string'],\n",
        "       ['fruit', 'furnace'],\n",
        "       ['autograph', 'shore'],\n",
        "       ['automobile', 'wizard'],\n",
        "       ['mound', 'stove'],\n",
        "       ['grin', 'implement'],\n",
        "       ['asylum', 'fruit'],\n",
        "       ['asylum', 'monk'],\n",
        "       ['graveyard', 'madhouse'],\n",
        "       ['glass', 'magician'],\n",
        "       ['boy', 'rooster'],\n",
        "       ['cushion', 'jewel'],\n",
        "       ['monk', 'slave'],\n",
        "       ['asylum', 'cemetery'],\n",
        "       ['coast', 'forest'],\n",
        "       ['grin', 'lad'],\n",
        "       ['shore', 'woodland'],\n",
        "       ['monk', 'oracle'],\n",
        "       ['boy', 'sage'],\n",
        "       ['automobile', 'cushion'],\n",
        "       ['mound', 'shore'],\n",
        "       ['lad', 'wizard'],\n",
        "       ['forest', 'graveyard'],\n",
        "       ['food', 'rooster'],\n",
        "       ['cemetery', 'woodland'],\n",
        "       ['shore', 'voyage'],\n",
        "       ['bird', 'woodland'],\n",
        "       ['coast', 'hill'],\n",
        "       ['furnace', 'implement'],\n",
        "       ['crane', 'rooster'],\n",
        "       ['hill', 'woodland'],\n",
        "       ['car', 'journey'],\n",
        "       ['cemetery', 'mound'],\n",
        "       ['glass', 'jewel'],\n",
        "       ['magician', 'oracle'],\n",
        "       ['crane', 'implement'],\n",
        "       ['brother', 'lad'],\n",
        "       ['sage', 'wizard'],\n",
        "       ['oracle', 'sage'],\n",
        "       ['bird', 'crane'],\n",
        "       ['bird', 'cock'],\n",
        "       ['food', 'fruit'],\n",
        "       ['brother', 'monk'],\n",
        "       ['asylum', 'madhouse'],\n",
        "       ['furnace', 'stove'],\n",
        "       ['magician', 'wizard'],\n",
        "       ['hill', 'mound'],\n",
        "       ['cord', 'string'],\n",
        "       ['glass', 'tumbler'],\n",
        "       ['grin', 'smile'],\n",
        "       ['serf', 'slave'],\n",
        "       ['journey', 'voyage'],\n",
        "       ['autograph', 'signature'],\n",
        "       ['coast', 'shore'],\n",
        "       ['forest', 'woodland'],\n",
        "       ['implement', 'tool'],\n",
        "       ['cock', 'rooster'],\n",
        "       ['boy', 'lad'],\n",
        "       ['cushion', 'pillow'],\n",
        "       ['cemetery', 'graveyard'],\n",
        "       ['automobile', 'car'],\n",
        "       ['midday', 'noon'],\n",
        "       ['gem', 'jewel']]"
      ]
    },
    {
      "cell_type": "code",
      "execution_count": 62,
      "metadata": {
        "id": "cZPj9Ry9dWzd"
      },
      "outputs": [],
      "source": [
        "rg65 = ['smile',\n",
        " 'voyage',\n",
        " 'string',\n",
        " 'furnace',\n",
        " 'shore',\n",
        " 'wizard',\n",
        " 'stove',\n",
        " 'implement',\n",
        " 'fruit',\n",
        " 'monk',\n",
        " 'madhouse',\n",
        " 'magician',\n",
        " 'rooster',\n",
        " 'jewel',\n",
        " 'slave',\n",
        " 'cemetery',\n",
        " 'forest',\n",
        " 'lad',\n",
        " 'woodland',\n",
        " 'oracle',\n",
        " 'sage',\n",
        " 'cushion',\n",
        " 'shore',\n",
        " 'wizard',\n",
        " 'graveyard',\n",
        " 'rooster',\n",
        " 'woodland',\n",
        " 'voyage',\n",
        " 'woodland',\n",
        " 'hill',\n",
        " 'implement',\n",
        " 'rooster',\n",
        " 'woodland',\n",
        " 'journey',\n",
        " 'mound',\n",
        " 'jewel',\n",
        " 'oracle',\n",
        " 'implement',\n",
        " 'lad',\n",
        " 'wizard',\n",
        " 'sage',\n",
        " 'crane',\n",
        " 'cock',\n",
        " 'fruit',\n",
        " 'monk',\n",
        " 'madhouse',\n",
        " 'stove',\n",
        " 'wizard',\n",
        " 'mound',\n",
        " 'string',\n",
        " 'tumbler',\n",
        " 'smile',\n",
        " 'slave',\n",
        " 'voyage',\n",
        " 'signature',\n",
        " 'shore',\n",
        " 'woodland',\n",
        " 'tool',\n",
        " 'rooster',\n",
        " 'lad',\n",
        " 'pillow',\n",
        " 'graveyard',\n",
        " 'car',\n",
        " 'noon',\n",
        " 'jewel',\n",
        " 'cord',\n",
        " 'rooster',\n",
        " 'noon',\n",
        " 'fruit',\n",
        " 'autograph',\n",
        " 'automobile',\n",
        " 'mound',\n",
        " 'grin',\n",
        " 'asylum',\n",
        " 'asylum',\n",
        " 'graveyard',\n",
        " 'glass',\n",
        " 'boy',\n",
        " 'cushion',\n",
        " 'monk',\n",
        " 'asylum',\n",
        " 'coast',\n",
        " 'grin',\n",
        " 'shore',\n",
        " 'monk',\n",
        " 'boy',\n",
        " 'automobile',\n",
        " 'mound',\n",
        " 'lad',\n",
        " 'forest',\n",
        " 'food',\n",
        " 'cemetery',\n",
        " 'shore',\n",
        " 'bird',\n",
        " 'coast',\n",
        " 'furnace',\n",
        " 'crane',\n",
        " 'hill',\n",
        " 'car',\n",
        " 'cemetery',\n",
        " 'glass',\n",
        " 'magician',\n",
        " 'crane',\n",
        " 'brother',\n",
        " 'sage',\n",
        " 'oracle',\n",
        " 'bird',\n",
        " 'bird',\n",
        " 'food',\n",
        " 'brother',\n",
        " 'asylum',\n",
        " 'furnace',\n",
        " 'magician',\n",
        " 'hill',\n",
        " 'cord',\n",
        " 'glass',\n",
        " 'grin',\n",
        " 'serf',\n",
        " 'journey',\n",
        " 'autograph',\n",
        " 'coast',\n",
        " 'forest',\n",
        " 'implement',\n",
        " 'cock',\n",
        " 'boy',\n",
        " 'cushion',\n",
        " 'cemetery',\n",
        " 'automobile',\n",
        " 'midday',\n",
        " 'gem']"
      ]
    },
    {
      "cell_type": "markdown",
      "metadata": {
        "id": "PqpKEUkWfg_f"
      },
      "source": [
        "## Bigram"
      ]
    },
    {
      "cell_type": "code",
      "execution_count": 63,
      "metadata": {
        "id": "khgagXlz1Lz2"
      },
      "outputs": [],
      "source": [
        "w_set = [aa[0] for aa in a]\n",
        "w_set.extend(rg65)\n",
        "w_set = list(set(w_set))"
      ]
    },
    {
      "cell_type": "code",
      "execution_count": 64,
      "metadata": {
        "colab": {
          "base_uri": "https://localhost:8080/"
        },
        "id": "Kbibn5wINKAV",
        "outputId": "1e15b588-cad4-4c85-be5f-c402108b3253"
      },
      "outputs": [
        {
          "output_type": "execute_result",
          "data": {
            "text/plain": [
              "5030"
            ]
          },
          "metadata": {},
          "execution_count": 64
        }
      ],
      "source": [
        "len(w_set)"
      ]
    },
    {
      "cell_type": "code",
      "execution_count": 65,
      "metadata": {
        "id": "LvZDcKTbgb5-"
      },
      "outputs": [],
      "source": [
        "from nltk.util import ngrams\n",
        "def compute_bigram(word_set):\n",
        "    word2idx = {}\n",
        "    for i,w in enumerate(word_set):\n",
        "      word2idx[w] = i\n",
        "    # matrix = np.zeros((len(word_set), len(word_set)))\n",
        "    bigrams_counts = Counter(ngrams(brown.words(), 2))\n",
        "    # bigrams_counts = Counter(ngrams(bw, 2))\n",
        "    \n",
        "    # M1 = lil_matrix((len(word_set), len(word_set)))\n",
        "    M1 = np.zeros((len(word_set), len(word_set)))\n",
        "    for bigram in bigrams_counts.keys():\n",
        "        if bigram[1].lower() in word_set and bigram[0].lower() in word_set:\n",
        "          M1[word2idx[bigram[0].lower()],word2idx[bigram[1].lower()]] = bigrams_counts[bigram]\n",
        "    return M1,word2idx\n"
      ]
    },
    {
      "cell_type": "code",
      "execution_count": 66,
      "metadata": {
        "id": "FMitwjrEny4R"
      },
      "outputs": [],
      "source": [
        "import math\n",
        "def compute_pmi(M1,word_set):\n",
        "  \n",
        "  rs = M1.sum(axis=1).transpose()\n",
        "  cs =  M1.sum(axis=0)\n",
        "  s = M1.sum()\n",
        "\n",
        "  M1_plus = np.zeros((len(word_set), len(word_set)))\n",
        "  # M1_plus = lil_matrix((len(word_set), len(word_set)))\n",
        "  for i in range(len(word_set)):\n",
        "    for j in range(len(word_set)):\n",
        "      if M1[i,j]!=0 and rs[i]!=0 and cs[j]!=0:\n",
        "        val = math.log2(M1[i,j] * s) - math.log2(rs[i] * cs[j])\n",
        "        M1_plus[i, j] = max(val, 0)\n",
        "\n",
        "  return  M1_plus\n",
        "  "
      ]
    },
    {
      "cell_type": "code",
      "execution_count": 67,
      "metadata": {
        "id": "lC4033J9oIX-"
      },
      "outputs": [],
      "source": [
        "M1,word2idx = compute_bigram(w_set)"
      ]
    },
    {
      "cell_type": "code",
      "execution_count": 68,
      "metadata": {
        "id": "F2StpuCXowgG"
      },
      "outputs": [],
      "source": [
        "M1_plus = compute_pmi(M1,w_set)"
      ]
    },
    {
      "cell_type": "code",
      "execution_count": 69,
      "metadata": {
        "colab": {
          "base_uri": "https://localhost:8080/"
        },
        "id": "5BSd-CA8EaWa",
        "outputId": "81289ee6-0937-4d26-ac93-78f6baf6f0ba"
      },
      "outputs": [
        {
          "output_type": "execute_result",
          "data": {
            "text/plain": [
              "False"
            ]
          },
          "metadata": {},
          "execution_count": 69
        }
      ],
      "source": [
        "np.isnan(M1_plus).any()"
      ]
    },
    {
      "cell_type": "markdown",
      "metadata": {
        "id": "v2NKwujqrMrA"
      },
      "source": [
        "## PCA"
      ]
    },
    {
      "cell_type": "code",
      "execution_count": 70,
      "metadata": {
        "id": "vU578RLQ4209"
      },
      "outputs": [],
      "source": [
        "M2_10_pca = PCA(n_components=10)\n",
        "M2_10 = M2_10_pca.fit_transform(M1_plus)\n",
        "M2_100_pca = PCA(n_components=100)\n",
        "M2_100 = M2_100_pca.fit_transform(M1_plus)\n",
        "M2_300_pca = PCA(n_components=300)\n",
        "M2_300 = M2_300_pca.fit_transform(M1_plus)\n"
      ]
    },
    {
      "cell_type": "code",
      "execution_count": 71,
      "metadata": {
        "colab": {
          "base_uri": "https://localhost:8080/"
        },
        "id": "iDiqE0NZS1cd",
        "outputId": "56813c2e-a6f8-496c-9a1a-f0c09a329abb"
      },
      "outputs": [
        {
          "output_type": "execute_result",
          "data": {
            "text/plain": [
              "(5030, 300)"
            ]
          },
          "metadata": {},
          "execution_count": 71
        }
      ],
      "source": [
        "M2_300.shape"
      ]
    },
    {
      "cell_type": "code",
      "execution_count": 72,
      "metadata": {
        "id": "ZlEKxfHz6lmE"
      },
      "outputs": [],
      "source": [
        "s = [0.02, 0.04, 0.04, 0.05, 0.06, 0.11, 0.14, 0.18, 0.19, 0.39, 0.42,\n",
        "       0.44, 0.44, 0.45, 0.57, 0.79, 0.85, 0.88, 0.9 , 0.91, 0.96, 0.97,\n",
        "       0.97, 0.99, 1.  , 1.09, 1.18, 1.22, 1.24, 1.26, 1.37, 1.41, 1.48,\n",
        "       1.55, 1.69, 1.78, 1.82, 2.37, 2.41, 2.46, 2.61, 2.63, 2.63, 2.69,\n",
        "       2.74, 3.04, 3.11, 3.21, 3.29, 3.41, 3.45, 3.46, 3.46, 3.58, 3.59,\n",
        "       3.6 , 3.65, 3.66, 3.68, 3.82, 3.84, 3.88, 3.92, 3.94, 3.94]"
      ]
    },
    {
      "cell_type": "code",
      "execution_count": 73,
      "metadata": {
        "id": "r-umVTOJ6v9b"
      },
      "outputs": [],
      "source": [
        "\n",
        "\n",
        "M1_sim = []\n",
        "M1p_sim = []\n",
        "M2_10_sim = []\n",
        "M2_100_sim = []\n",
        "M2_300_sim = []\n",
        "\n",
        "worda = [pair[0] for pair in pairs]\n",
        "wordb = [pair[1] for pair in pairs]\n",
        "for i in range(len(pairs)):\n",
        "  # print(worda[i],wordb[i])\n",
        "  M1_sim.append(cosine_similarity(M1[word2idx[worda[i]]].reshape(1, -1),M1[word2idx[wordb[i]]].reshape(1, -1))[0][0])\n",
        "  M1p_sim.append(cosine_similarity(M1_plus[word2idx[worda[i]]].reshape(1, -1),M1_plus[word2idx[wordb[i]]].reshape(1, -1))[0][0])\n",
        "  M2_10_sim.append(cosine_similarity(M2_10[word2idx[worda[i]]].reshape(1, -1),M2_10[word2idx[wordb[i]]].reshape(1, -1))[0][0])\n",
        "  M2_100_sim.append(cosine_similarity(M2_100[word2idx[worda[i]]].reshape(1, -1),M2_100[word2idx[wordb[i]]].reshape(1, -1))[0][0])\n",
        "  M2_300_sim.append(cosine_similarity(M2_300[word2idx[worda[i]]].reshape(1, -1),M2_300[word2idx[wordb[i]]].reshape(1, -1))[0][0])\n",
        "  "
      ]
    },
    {
      "cell_type": "code",
      "execution_count": 74,
      "metadata": {
        "colab": {
          "base_uri": "https://localhost:8080/"
        },
        "id": "L3UcBQUzS8eM",
        "outputId": "a150bc68-4e04-4582-9832-52fdbb6a514d"
      },
      "outputs": [
        {
          "output_type": "execute_result",
          "data": {
            "text/plain": [
              "65"
            ]
          },
          "metadata": {},
          "execution_count": 74
        }
      ],
      "source": [
        "len(pairs)"
      ]
    },
    {
      "cell_type": "code",
      "execution_count": 75,
      "metadata": {
        "colab": {
          "base_uri": "https://localhost:8080/"
        },
        "id": "UoIVONnrS4v0",
        "outputId": "0bd2dee3-8337-44c3-9ec3-5069dcc035b8"
      },
      "outputs": [
        {
          "output_type": "execute_result",
          "data": {
            "text/plain": [
              "(65, 65)"
            ]
          },
          "metadata": {},
          "execution_count": 75
        }
      ],
      "source": [
        "len(M1_sim),len(s)"
      ]
    },
    {
      "cell_type": "code",
      "execution_count": 76,
      "metadata": {
        "colab": {
          "base_uri": "https://localhost:8080/"
        },
        "id": "oyyd_mJqCUnS",
        "outputId": "ed33f39b-7205-4860-b46b-57f0bbb51990"
      },
      "outputs": [
        {
          "output_type": "stream",
          "name": "stdout",
          "text": [
            "pearsonr for S and M1 (0.31734305508228516, 0.010000522446091661)\n",
            "pearsonr for S and M1+ (0.19293985349723838, 0.12359532984089408)\n",
            "pearsonr for S and M2_10 (0.16557610543548068, 0.1874585436217429)\n",
            "pearsonr for S and M2_100 (0.3939898505682903, 0.0011653090899399875)\n",
            "pearsonr for S and M2_300 (0.3842580246736232, 0.0015768604988334147)\n"
          ]
        }
      ],
      "source": [
        "\n",
        "print(\"pearsonr for S and M1\",stats.pearsonr(s, M1_sim))\n",
        "print(\"pearsonr for S and M1+\",stats.pearsonr(s, M1p_sim))\n",
        "print(\"pearsonr for S and M2_10\",stats.pearsonr(s, M2_10_sim))\n",
        "print(\"pearsonr for S and M2_100\",stats.pearsonr(s, M2_100_sim))\n",
        "print(\"pearsonr for S and M2_300\",stats.pearsonr(s, M2_300_sim))"
      ]
    },
    {
      "cell_type": "markdown",
      "metadata": {
        "id": "2Fyu8H1YfnG2"
      },
      "source": [
        "# Lab1"
      ]
    },
    {
      "cell_type": "code",
      "execution_count": null,
      "metadata": {
        "colab": {
          "base_uri": "https://localhost:8080/"
        },
        "id": "4cg0WZl3gHK4",
        "outputId": "45579484-3bf4-434a-8692-8ceb395c403a"
      },
      "outputs": [
        {
          "output_type": "stream",
          "name": "stdout",
          "text": [
            "Requirement already satisfied: gdown in /usr/local/lib/python3.7/dist-packages (4.2.0)\n",
            "Requirement already satisfied: filelock in /usr/local/lib/python3.7/dist-packages (from gdown) (3.4.2)\n",
            "Requirement already satisfied: tqdm in /usr/local/lib/python3.7/dist-packages (from gdown) (4.62.3)\n",
            "Requirement already satisfied: six in /usr/local/lib/python3.7/dist-packages (from gdown) (1.15.0)\n",
            "Requirement already satisfied: requests[socks] in /usr/local/lib/python3.7/dist-packages (from gdown) (2.23.0)\n",
            "Requirement already satisfied: beautifulsoup4 in /usr/local/lib/python3.7/dist-packages (from gdown) (4.6.3)\n",
            "Requirement already satisfied: chardet<4,>=3.0.2 in /usr/local/lib/python3.7/dist-packages (from requests[socks]->gdown) (3.0.4)\n",
            "Requirement already satisfied: certifi>=2017.4.17 in /usr/local/lib/python3.7/dist-packages (from requests[socks]->gdown) (2021.10.8)\n",
            "Requirement already satisfied: idna<3,>=2.5 in /usr/local/lib/python3.7/dist-packages (from requests[socks]->gdown) (2.10)\n",
            "Requirement already satisfied: urllib3!=1.25.0,!=1.25.1,<1.26,>=1.21.1 in /usr/local/lib/python3.7/dist-packages (from requests[socks]->gdown) (1.24.3)\n",
            "Requirement already satisfied: PySocks!=1.5.7,>=1.5.6 in /usr/local/lib/python3.7/dist-packages (from requests[socks]->gdown) (1.7.1)\n"
          ]
        }
      ],
      "source": [
        "!pip install gdown"
      ]
    },
    {
      "cell_type": "code",
      "execution_count": null,
      "metadata": {
        "colab": {
          "base_uri": "https://localhost:8080/"
        },
        "id": "29dmWGiFgGau",
        "outputId": "b2c29dd4-82f1-4c81-91b3-f7b2848e919e"
      },
      "outputs": [
        {
          "name": "stdout",
          "output_type": "stream",
          "text": [
            "Access denied with the following error:\n",
            "\n",
            " \tToo many users have viewed or downloaded this file recently. Please\n",
            "\ttry accessing the file again later. If the file you are trying to\n",
            "\taccess is particularly large or is shared with many people, it may\n",
            "\ttake up to 24 hours to be able to view or download the file. If you\n",
            "\tstill can't access a file after 24 hours, contact your domain\n",
            "\tadministrator. \n",
            "\n",
            "You may still be able to access the file from the browser:\n",
            "\n",
            "\t https://drive.google.com/uc?id=0B7XkCwpI5KDYNlNUTTlSS21pQmM \n",
            "\n"
          ]
        }
      ],
      "source": [
        "!gdown \"https://drive.google.com/uc?id=0B7XkCwpI5KDYNlNUTTlSS21pQmM\"\n"
      ]
    },
    {
      "cell_type": "code",
      "source": [
        "!gunzip 'GoogleNews-vectors-negative300.bin.gz'"
      ],
      "metadata": {
        "id": "CM_aPZJBZkR2"
      },
      "execution_count": null,
      "outputs": []
    },
    {
      "cell_type": "code",
      "execution_count": 24,
      "metadata": {
        "colab": {
          "base_uri": "https://localhost:8080/"
        },
        "id": "srW3zJmvB8DM",
        "outputId": "e738828e-bea4-4a18-ae3f-0a1a46d33cad"
      },
      "outputs": [
        {
          "output_type": "stream",
          "name": "stdout",
          "text": [
            "Mounted at /content/drive\n"
          ]
        }
      ],
      "source": [
        "# from google.colab import drive\n",
        "# drive.mount('/content/drive')"
      ]
    },
    {
      "cell_type": "code",
      "execution_count": null,
      "metadata": {
        "colab": {
          "base_uri": "https://localhost:8080/"
        },
        "id": "8q7F9qTRhN96",
        "outputId": "4fa5b750-8b4d-4c90-d87e-80793373183e"
      },
      "outputs": [
        {
          "name": "stdout",
          "output_type": "stream",
          "text": [
            "gzip: ./drive/MyDrive/GoogleNews-vectors-negative300.bin.gz: No such file or directory\n"
          ]
        }
      ],
      "source": [
        "# !gunzip './drive/MyDrive/GoogleNews-vectors-negative300.bin.gz'"
      ]
    },
    {
      "cell_type": "code",
      "execution_count": 25,
      "metadata": {
        "id": "EW_3FTaMGGw4"
      },
      "outputs": [],
      "source": [
        "from gensim.models import KeyedVectors\n",
        "model = KeyedVectors.load_word2vec_format('./GoogleNews-vectors-negative300.bin', binary=True)\n",
        "# model = KeyedVectors.load_word2vec_format('./drive/MyDrive/GoogleNews-vectors-negative300.bin', binary=True)"
      ]
    },
    {
      "cell_type": "markdown",
      "metadata": {
        "id": "qp8Xe9yyrSf2"
      },
      "source": [
        "## W2V Pearson"
      ]
    },
    {
      "cell_type": "code",
      "execution_count": 26,
      "metadata": {
        "id": "zWUI__Cmjt59"
      },
      "outputs": [],
      "source": [
        "from sklearn.metrics.pairwise import cosine_similarity\n",
        "\n",
        "w2v_sim = []\n",
        "\n",
        "worda = [pair[0] for pair in pairs]\n",
        "wordb = [pair[1] for pair in pairs]\n",
        "for i in range(len(pairs)):\n",
        "  # print(worda[i],wordb[i])\n",
        "  w2v_sim.append(cosine_similarity(model[worda[i]].reshape(1,-1),model[wordb[i]].reshape(1,-1))[0][0])\n",
        "   "
      ]
    },
    {
      "cell_type": "code",
      "execution_count": 107,
      "metadata": {
        "colab": {
          "base_uri": "https://localhost:8080/"
        },
        "id": "SFtpXg_ij8Fd",
        "outputId": "cae0d980-b9bf-4c9b-c772-a96365190dd5"
      },
      "outputs": [
        {
          "output_type": "stream",
          "name": "stdout",
          "text": [
            "pearsonr for S and W2v (0.7720616125197682, 5.091065805872837e-14)\n"
          ]
        }
      ],
      "source": [
        "from scipy import stats\n",
        "print(\"pearsonr for S and W2v\",stats.pearsonr(s, w2v_sim))\n"
      ]
    },
    {
      "cell_type": "markdown",
      "metadata": {
        "id": "9JWYHxVvrV7d"
      },
      "source": [
        "## Analogy"
      ]
    },
    {
      "cell_type": "code",
      "execution_count": 28,
      "metadata": {
        "id": "edWJ87jSkh3l"
      },
      "outputs": [],
      "source": [
        "import requests\n",
        "data = requests.get('http://www.fit.vutbr.cz/~imikolov/rnnlm/word-test.v1.txt')"
      ]
    },
    {
      "cell_type": "code",
      "execution_count": 97,
      "metadata": {
        "colab": {
          "base_uri": "https://localhost:8080/"
        },
        "id": "IJSCXjLsqJTM",
        "outputId": "90d434b3-0586-460c-860a-0fd68ed6201d"
      },
      "outputs": [
        {
          "output_type": "stream",
          "name": "stdout",
          "text": [
            "capital-common-countries\n",
            "capital-world\n",
            "currency\n",
            "city-in-state\n",
            "family\n",
            "gram1-adjective-to-adverb\n",
            "gram2-opposite\n",
            "gram3-comparative\n",
            "gram4-superlative\n",
            "gram5-present-participle\n",
            "gram6-nationality-adjective\n",
            "gram7-past-tense\n",
            "gram8-plural\n",
            "gram9-plural-verbs\n"
          ]
        }
      ],
      "source": [
        "lines = data.text.split('\\n')\n",
        "lines = lines[1:]\n",
        "tasks = {}\n",
        "results_w2v = {}\n",
        "results_M2 = {}\n",
        "task = ''\n",
        "for line in lines:\n",
        "  if ': ' in line:\n",
        "    task = line.split(' ')[1]\n",
        "    if not task in tasks.keys():\n",
        "      print(task)\n",
        "      tasks[task] = []\n",
        "      results_w2v[task] = 0\n",
        "      results_M2[task] = 0\n",
        "  else:\n",
        "    words = line.split(' ')\n",
        "    flag = True\n",
        "    for word in words: \n",
        "      if not (word in w_set):\n",
        "        flag = False\n",
        "    if flag:\n",
        "      tasks[task].append(words)\n"
      ]
    },
    {
      "cell_type": "code",
      "execution_count": 106,
      "metadata": {
        "colab": {
          "base_uri": "https://localhost:8080/"
        },
        "id": "Vt6G86Idx895",
        "outputId": "a8a0d428-2457-4829-ba48-55f2b3381777"
      },
      "outputs": [
        {
          "output_type": "stream",
          "name": "stdout",
          "text": [
            "capital-common-countries 0\n",
            "capital-world 0\n",
            "currency 0\n",
            "city-in-state 0\n",
            "family 90\n",
            "gram1-adjective-to-adverb 380\n",
            "gram2-opposite 20\n",
            "gram3-comparative 272\n",
            "gram4-superlative 42\n",
            "gram5-present-participle 272\n",
            "gram6-nationality-adjective 0\n",
            "gram7-past-tense 600\n",
            "gram8-plural 306\n",
            "gram9-plural-verbs 132\n",
            "sum 2114\n"
          ]
        }
      ],
      "source": [
        "summ = 0\n",
        "for task in tasks.keys():\n",
        "  print(task,len(tasks[task]))\n",
        "  summ+=len(tasks[task])\n",
        "print('sum',summ)"
      ]
    },
    {
      "cell_type": "code",
      "source": [
        "model_set = [w for w in w_set if w in model.vocab]\n",
        "word2idx_model = {}\n",
        "for i,w in enumerate(model_set):\n",
        "  word2idx_model[w] = i\n",
        "\n",
        "w2v_matrix = np.zeros((len(model_set),300))\n",
        "for word in model_set:\n",
        "    w2v_matrix[word2idx_model[word],:] = model[word].reshape(1,-1)"
      ],
      "metadata": {
        "id": "qTH17YO6BdHc"
      },
      "execution_count": 99,
      "outputs": []
    },
    {
      "cell_type": "code",
      "execution_count": 100,
      "metadata": {
        "colab": {
          "base_uri": "https://localhost:8080/"
        },
        "id": "SAaRZaxVtoHq",
        "outputId": "7e064978-d90e-4843-f20b-10d0b2258e83"
      },
      "outputs": [
        {
          "output_type": "stream",
          "name": "stdout",
          "text": [
            "capital-common-countries\n",
            "capital-world\n",
            "currency\n",
            "city-in-state\n",
            "family\n",
            "gram1-adjective-to-adverb\n",
            "gram2-opposite\n",
            "gram3-comparative\n",
            "gram4-superlative\n",
            "gram5-present-participle\n",
            "gram6-nationality-adjective\n",
            "gram7-past-tense\n",
            "gram8-plural\n",
            "gram9-plural-verbs\n"
          ]
        }
      ],
      "source": [
        "import scipy\n",
        "from sklearn.metrics.pairwise import cosine_similarity\n",
        "\n",
        "for task in tasks.keys():\n",
        "  print(task)\n",
        "  for words in tasks[task]:\n",
        "    words = [w.lower().strip() for w in words]\n",
        "\n",
        "\n",
        "\n",
        "    vector = model[words[2]] - model[words[0]] + model[words[1]]\n",
        "    sim = cosine_similarity([vector], w2v_matrix).argsort()[0].tolist()\n",
        "    \n",
        "    sim.remove(word2idx_model[words[0]])\n",
        "    sim.remove(word2idx_model[words[1]])\n",
        "    sim.remove(word2idx_model[words[2]])\n",
        "\n",
        "    w2v_choice = model_set[sim[-1]]\n",
        "    if w2v_choice in words[:3]:\n",
        "      print('w2v',w2v_choice,words)\n",
        "\n",
        "\n",
        "\n",
        "\n",
        "    vector = M2_300[word2idx[words[2]]] - M2_300[word2idx[words[0]]] + M2_300[word2idx[words[1]]]\n",
        "    sim = cosine_similarity([vector], M2_300).argsort()[0].tolist()\n",
        "    sim.remove(word2idx[words[0]])\n",
        "    sim.remove(word2idx[words[1]])\n",
        "    sim.remove(word2idx[words[2]])\n",
        "    M2_choice = w_set[sim[-1]]\n",
        "\n",
        "    if M2_choice in words[:3]:\n",
        "      print('M2',M2_choice,words)\n",
        "\n",
        "\n",
        "    if w2v_choice.lower() == words[3].lower():\n",
        "      # print('--->',w2v_choice.lower() ,words[3].lower(),words)\n",
        "      results_w2v[task]+=1\n",
        "    if M2_choice.lower() == words[3].lower():\n",
        "      # print('--->',M2_choice.lower() ,words[3].lower(),words)\n",
        "      results_M2[task]+=1\n",
        "    \n",
        "\n",
        "\n"
      ]
    },
    {
      "cell_type": "code",
      "execution_count": 93,
      "metadata": {
        "colab": {
          "base_uri": "https://localhost:8080/"
        },
        "id": "7QTTe3xDeIjv",
        "outputId": "0184cb6d-f846-4181-e316-6a6b701957a7"
      },
      "outputs": [
        {
          "output_type": "execute_result",
          "data": {
            "text/plain": [
              "{'capital-common-countries': 0,\n",
              " 'capital-world': 0,\n",
              " 'city-in-state': 0,\n",
              " 'currency': 0,\n",
              " 'family': 161,\n",
              " 'gram1-adjective-to-adverb': 154,\n",
              " 'gram2-opposite': 7,\n",
              " 'gram3-comparative': 269,\n",
              " 'gram4-superlative': 60,\n",
              " 'gram5-present-participle': 244,\n",
              " 'gram6-nationality-adjective': 0,\n",
              " 'gram7-past-tense': 565,\n",
              " 'gram8-plural': 295,\n",
              " 'gram9-plural-verbs': 146}"
            ]
          },
          "metadata": {},
          "execution_count": 93
        }
      ],
      "source": [
        "results_w2v"
      ]
    },
    {
      "cell_type": "code",
      "execution_count": 94,
      "metadata": {
        "colab": {
          "base_uri": "https://localhost:8080/"
        },
        "id": "lGXl0EoEeKct",
        "outputId": "6a018aa2-1f96-4004-c5a3-75d7ffd61d61"
      },
      "outputs": [
        {
          "output_type": "execute_result",
          "data": {
            "text/plain": [
              "{'capital-common-countries': 0,\n",
              " 'capital-world': 0,\n",
              " 'city-in-state': 0,\n",
              " 'currency': 0,\n",
              " 'family': 39,\n",
              " 'gram1-adjective-to-adverb': 2,\n",
              " 'gram2-opposite': 0,\n",
              " 'gram3-comparative': 44,\n",
              " 'gram4-superlative': 8,\n",
              " 'gram5-present-participle': 38,\n",
              " 'gram6-nationality-adjective': 0,\n",
              " 'gram7-past-tense': 214,\n",
              " 'gram8-plural': 10,\n",
              " 'gram9-plural-verbs': 30}"
            ]
          },
          "metadata": {},
          "execution_count": 94
        }
      ],
      "source": [
        "results_M2"
      ]
    },
    {
      "cell_type": "code",
      "execution_count": 105,
      "metadata": {
        "colab": {
          "base_uri": "https://localhost:8080/"
        },
        "id": "7zsTsIQSdvEd",
        "outputId": "999caff3-7e58-4e6c-82b6-39b0d879924c"
      },
      "outputs": [
        {
          "output_type": "stream",
          "name": "stdout",
          "text": [
            "type : semantic --- family ,w2v --> 0.9111111111111111 ,M2_300 --> 0.14444444444444443\n",
            "type : syntactic --- gram1-adjective-to-adverb ,w2v --> 0.38421052631578945 ,M2_300 --> 0.002631578947368421\n",
            "type : syntactic --- gram2-opposite ,w2v --> 0.35 ,M2_300 --> 0.0\n",
            "type : syntactic --- gram3-comparative ,w2v --> 0.8088235294117647 ,M2_300 --> 0.08088235294117647\n",
            "type : syntactic --- gram4-superlative ,w2v --> 0.9047619047619048 ,M2_300 --> 0.09523809523809523\n",
            "type : syntactic --- gram5-present-participle ,w2v --> 0.8088235294117647 ,M2_300 --> 0.06985294117647059\n",
            "type : syntactic --- gram7-past-tense ,w2v --> 0.7583333333333333 ,M2_300 --> 0.17833333333333334\n",
            "type : syntactic --- gram8-plural ,w2v --> 0.8921568627450981 ,M2_300 --> 0.016339869281045753\n",
            "type : syntactic --- gram9-plural-verbs ,w2v --> 0.8409090909090909 ,M2_300 --> 0.11363636363636363\n",
            "---------------\n",
            "W2V overall syntactic 0.7262845849802372\n",
            "W2V overall semantic 0.9111111111111111\n",
            "---------------\n",
            "M2_300 overall syntactic 0.08547430830039526\n",
            "M2_300 overall semantic 0.14444444444444443\n"
          ]
        }
      ],
      "source": [
        "w2v_syntactic_correct = 0\n",
        "w2v_syntactic_num = 0\n",
        "w2v_semantic_correct = 0\n",
        "w2v_semantic_num = 0\n",
        "\n",
        "M2_syntactic_correct = 0\n",
        "M2_syntactic_num = 0\n",
        "M2_semantic_correct = 0\n",
        "M2_semantic_num = 0\n",
        "for task in tasks.keys():\n",
        "  if len(tasks[task])!=0:\n",
        "    if 'gram' in task:\n",
        "      typee = \"syntactic\"\n",
        "      w2v_syntactic_correct+=results_w2v[task]\n",
        "      w2v_syntactic_num+=len(tasks[task])\n",
        "      M2_syntactic_correct+=results_M2[task]\n",
        "      M2_syntactic_num+=len(tasks[task])\n",
        "    else:\n",
        "      typee = \"semantic\"\n",
        "      w2v_semantic_correct+=results_w2v[task]\n",
        "      w2v_semantic_num+=len(tasks[task])\n",
        "      M2_semantic_correct+=results_M2[task]\n",
        "      M2_semantic_num+=len(tasks[task])\n",
        "    print('type :',typee,'---',task,',w2v -->',results_w2v[task]/len(tasks[task]),',M2_300 -->',results_M2[task]/len(tasks[task]))\n",
        "print('-'*15)\n",
        "print('W2V overall syntactic',w2v_syntactic_correct/w2v_syntactic_num)\n",
        "print('W2V overall semantic',w2v_semantic_correct/w2v_semantic_num)\n",
        "print('-'*15)\n",
        "print('M2_300 overall syntactic',M2_syntactic_correct/M2_syntactic_num)\n",
        "print('M2_300 overall semantic',M2_semantic_correct/M2_semantic_num)"
      ]
    },
    {
      "cell_type": "markdown",
      "metadata": {
        "id": "utzir0Mzai_e"
      },
      "source": [
        "## Step 5. \n",
        "Suggest a way to improve the existing set of vector-based models in capturing word\n",
        "similarities in general, and provide justifcations for your suggestion."
      ]
    },
    {
      "cell_type": "markdown",
      "metadata": {
        "id": "2d16UPr6xFvk"
      },
      "source": [
        "## Answer\n",
        "Adding a loss function in training the model such that this loss function contarsts \n",
        "\n",
        "model[words[2]] - model[words[0]] + model[words[1]]\n",
        "\n",
        "with the words[3]\n",
        "(and random words for the negative pairs of contrastion)"
      ]
    },
    {
      "cell_type": "markdown",
      "metadata": {
        "id": "aFXaA1Ukaiu1"
      },
      "source": [
        "# Diachronic word embedding"
      ]
    },
    {
      "cell_type": "code",
      "execution_count": null,
      "metadata": {
        "id": "rEqoy22DaiEO"
      },
      "outputs": [],
      "source": [
        "import pickle\n",
        "from sklearn.metrics.pairwise import cosine_similarity\n",
        "import numpy as np\n",
        "file = open('data.pkl', 'rb')\n",
        "dwe = pickle.load(file)\n",
        "\n",
        "w = dwe['w']\n",
        "d = dwe['d']\n",
        "E = dwe['E']"
      ]
    },
    {
      "cell_type": "markdown",
      "metadata": {
        "id": "iWyE4wf1a2jV"
      },
      "source": [
        "## Method one: Distance between first and last"
      ]
    },
    {
      "cell_type": "code",
      "execution_count": null,
      "metadata": {
        "colab": {
          "base_uri": "https://localhost:8080/"
        },
        "id": "68nrKUUUa180",
        "outputId": "1ec128bb-11c8-425a-ce71-c6f6bf2aa8dd"
      },
      "outputs": [
        {
          "output_type": "stream",
          "name": "stdout",
          "text": [
            "most_changes ['film', 'shift', 'berkeley', 'patterns', 'perspective', 'impact', 'media', 'shri', 'van', 'approach', 'goals', 'sector', 'radio', 'computer', 'objectives', 'programs', 'techniques', 'ml', 'skills', 'mcgraw']\n",
            "least_changes ['april', 'june', 'november', 'february', 'years', 'october', 'increase', 'january', 'century', 'months', 'daughter', 'december', 'god', 'september', 'feet', 'week', 'evening', 'door', 'payment', 'miles']\n"
          ]
        }
      ],
      "source": [
        "distances_1 = []\n",
        "for i in range(len(w)):\n",
        " dd = 1-cosine_similarity(np.array([E[i][0]]), np.array([E[i][-1]]))[0][0]\n",
        " distances_1.append(dd)\n",
        "sorted = np.argsort(distances_1)\n",
        "most_changes = [w[a] for a in sorted[-20:]]\n",
        "print('most_changes',most_changes)\n",
        "least_changes = [w[a] for a in sorted[:20]] \n",
        "print('least_changes',least_changes)"
      ]
    },
    {
      "cell_type": "markdown",
      "metadata": {
        "id": "7nCvNwzrcNpk"
      },
      "source": [
        "## Method two: Average distance of consecetive times"
      ]
    },
    {
      "cell_type": "code",
      "execution_count": null,
      "metadata": {
        "colab": {
          "base_uri": "https://localhost:8080/"
        },
        "id": "6g6FWwptazGp",
        "outputId": "9bf9889e-7d04-405a-cf9f-293e45e6f9d4"
      },
      "outputs": [
        {
          "output_type": "stream",
          "name": "stdout",
          "text": [
            "most_changes ['haven', 'goals', 'johnson', 'therapy', 'adams', 'wilson', 'princeton', 'martin', 'baltimore', 'wiley', 'berkeley', 'techniques', 'sector', 'ml', 'jones', 'harper', 'mcgraw', 'skills', 'computer', 'shri']\n",
            "least_changes ['april', 'miles', 'november', 'september', 'january', 'december', 'february', 'university', 'vessels', 'trees', 'cent', 'solution', 'july', 'decrease', 'october', 'temperature', 'buildings', 'june', 'patients', 'blood']\n"
          ]
        }
      ],
      "source": [
        "distances_2 = []\n",
        "for i in range(len(w)):\n",
        " dd = 0\n",
        " for j in range(9):\n",
        "  dd += 1 -cosine_similarity([np.array(E[i][j])], [np.array(E[i][j+1])])[0][0]\n",
        " distances_2.append(dd/9)\n",
        "sorted = np.argsort(distances_2)\n",
        "most_changes = [w[a] for a in sorted[-20:]]\n",
        "print('most_changes',most_changes)\n",
        "least_changes = [w[a] for a in sorted[:20]] \n",
        "print('least_changes',least_changes)"
      ]
    },
    {
      "cell_type": "markdown",
      "metadata": {
        "id": "EOnTOBRgctB8"
      },
      "source": [
        "## Method three: Maximum distance of consecetive times"
      ]
    },
    {
      "cell_type": "code",
      "execution_count": null,
      "metadata": {
        "colab": {
          "base_uri": "https://localhost:8080/"
        },
        "id": "js454kZlcvaU",
        "outputId": "e31a31ba-0ebe-476f-8a86-fa24fa7fd21e"
      },
      "outputs": [
        {
          "output_type": "stream",
          "name": "stdout",
          "text": [
            "most_changes ['jones', 'radio', 'implications', 'variables', 'jobs', 'procedures', 'wiley', 'therapy', 'input', 'evaluation', 'programs', 'sector', 'objectives', 'goals', 'skills', 'shri', 'mcgraw', 'ml', 'computer', 'techniques']\n",
            "least_changes ['april', 'november', 'december', 'january', 'september', 'trees', 'miles', 'solution', 'feet', 'june', 'february', 'vessels', 'century', 'duties', 'cent', 'blood', 'evening', 'buildings', 'decrease', 'july']\n"
          ]
        }
      ],
      "source": [
        "distances_3 = []\n",
        "for i in range(len(w)):\n",
        " ddd = 0\n",
        " for j in range(9):\n",
        "  dd =1 - cosine_similarity([np.array(E[i][j])], [np.array(E[i][j+1])])[0][0]\n",
        "  ddd = max(dd,ddd)\n",
        " distances_3.append(ddd)\n",
        "sorted = np.argsort(distances_3)\n",
        "most_changes = [w[a] for a in sorted[-20:]]\n",
        "print('most_changes',most_changes)\n",
        "least_changes = [w[a] for a in sorted[:20]] \n",
        "print('least_changes',least_changes)"
      ]
    },
    {
      "cell_type": "markdown",
      "metadata": {
        "id": "qtfyzCyfdEc1"
      },
      "source": [
        "Pearson correlations"
      ]
    },
    {
      "cell_type": "code",
      "execution_count": null,
      "metadata": {
        "colab": {
          "base_uri": "https://localhost:8080/"
        },
        "id": "0IKNKG31lAU6",
        "outputId": "e4918fb6-b0d1-401c-8ff3-5dfba5caa42e"
      },
      "outputs": [
        {
          "output_type": "execute_result",
          "data": {
            "text/plain": [
              "False"
            ]
          },
          "metadata": {},
          "execution_count": 10
        }
      ],
      "source": [
        "np.isnan(np.array(distances_3)).any()"
      ]
    },
    {
      "cell_type": "code",
      "execution_count": null,
      "metadata": {
        "colab": {
          "base_uri": "https://localhost:8080/"
        },
        "id": "Z4txxN3-dJA1",
        "outputId": "8d4d5a6f-f439-4fee-9e02-dbc82b292fb0"
      },
      "outputs": [
        {
          "output_type": "stream",
          "name": "stdout",
          "text": [
            "[[0.         0.6932991  0.68926445]\n",
            " [0.6932991  0.         0.84506762]\n",
            " [0.68926445 0.84506762 0.        ]]\n"
          ]
        }
      ],
      "source": [
        "from scipy import stats\n",
        "distances = [distances_1,distances_2,distances_3]\n",
        "array = np.zeros((3,3))\n",
        "for i in range(3):\n",
        "  for j in range(3):\n",
        "    if i!=j:\n",
        "      array[i,j] = stats.pearsonr(distances[i],distances[j])[0]\n",
        "    else:\n",
        "      array[i,j] = 0\n",
        "print(array)"
      ]
    },
    {
      "cell_type": "markdown",
      "metadata": {
        "id": "dEaEM94XsNKt"
      },
      "source": [
        "## Step 3\n",
        "Proposed method for evaluation: check how different set of closest words have been for each word"
      ]
    },
    {
      "cell_type": "code",
      "execution_count": null,
      "metadata": {
        "colab": {
          "base_uri": "https://localhost:8080/"
        },
        "id": "JBIQ2kp9qte9",
        "outputId": "eed0db2c-6fe6-4803-dc26-aa67649b1d2c"
      },
      "outputs": [
        {
          "output_type": "stream",
          "name": "stdout",
          "text": [
            "0\n",
            "100\n",
            "200\n",
            "300\n",
            "400\n",
            "500\n",
            "600\n",
            "700\n",
            "800\n",
            "900\n",
            "1000\n",
            "1100\n",
            "1200\n",
            "1300\n",
            "1400\n",
            "1500\n",
            "1600\n",
            "1700\n",
            "1800\n",
            "1900\n"
          ]
        }
      ],
      "source": [
        "most_similar = {}\n",
        "K = 10\n",
        "for i in range(len(w)):\n",
        "  if i%100==0:\n",
        "    print(i)\n",
        "  most_similar[w[i]] = [[] for l in range(10)]\n",
        "  for j in range(10):\n",
        "    sims = []\n",
        "    matrix = np.array(E)[:,j,:]\n",
        "    indexes = np.linalg.norm((matrix - E[i][j]),axis=1).argsort()\n",
        "    # print(np.shape(indexes))\n",
        "    sims = [w[a] for a in indexes[:K+1] if w[a]!=w[i]]\n",
        "    # for k in range(len(w)):\n",
        "    #   similarity = cosine_similarity([np.array(E[i][j])], [np.array(E[k][j])])[0][0]\n",
        "    #   # print(similarity)\n",
        "    #   sims.append((w[k],similarity))\n",
        "    # sims.sort( key = lambda x : -1*x[1])\n",
        "    most_similar[w[i]][j].extend(sims[:K])\n",
        "\n",
        "\n"
      ]
    },
    {
      "cell_type": "code",
      "source": [
        "most_similar[w[0]][5]"
      ],
      "metadata": {
        "colab": {
          "base_uri": "https://localhost:8080/"
        },
        "id": "QfByDDy2Ah8v",
        "outputId": "a8e9412f-521d-4115-d9b9-9d09aaaba0d5"
      },
      "execution_count": null,
      "outputs": [
        {
          "output_type": "execute_result",
          "data": {
            "text/plain": [
              "['period',\n",
              " 'days',\n",
              " 'interval',\n",
              " 'hour',\n",
              " 'years',\n",
              " 'hours',\n",
              " 'periods',\n",
              " 'moment',\n",
              " 'weeks',\n",
              " 'effort']"
            ]
          },
          "metadata": {},
          "execution_count": 46
        }
      ]
    },
    {
      "cell_type": "code",
      "execution_count": null,
      "metadata": {
        "id": "p0Brsoqhb_QK"
      },
      "outputs": [],
      "source": [
        "distances_4 = []\n",
        "for i in range(len(w)):\n",
        "  d = (K - len([a for a in most_similar[w[i]][0] if a in most_similar[w[i]][9]]))/K\n",
        "  distances_4.append(d)"
      ]
    },
    {
      "cell_type": "code",
      "source": [
        "distances_4"
      ],
      "metadata": {
        "id": "588q2gUhEztX"
      },
      "execution_count": null,
      "outputs": []
    },
    {
      "cell_type": "code",
      "execution_count": null,
      "metadata": {
        "colab": {
          "base_uri": "https://localhost:8080/"
        },
        "id": "fbeEGVHivA_e",
        "outputId": "996f8cbd-d2c4-4522-d706-dc75dcff663b"
      },
      "outputs": [
        {
          "output_type": "stream",
          "name": "stdout",
          "text": [
            "[2000, 2000, 2000, 2000]\n",
            "[[0.         0.6932991  0.68926445 0.43578751]\n",
            " [0.6932991  0.         0.84506762 0.21989351]\n",
            " [0.68926445 0.84506762 0.         0.23627123]\n",
            " [0.43578751 0.21989351 0.23627123 0.        ]]\n"
          ]
        }
      ],
      "source": [
        "distances = [distances_1, distances_2, distances_3, distances_4]\n",
        "print([len(d) for d in distances])\n",
        "array = np.zeros((4,4))\n",
        "for i in range(4):\n",
        "  for j in range(4):\n",
        "    if i!=j:\n",
        "      pr = stats.pearsonr(distances[i], distances[j])\n",
        "      # print(pr)\n",
        "      array[i,j] = pr[0]\n",
        "    else:\n",
        "      array[i,j] = 0\n",
        "print(array)"
      ]
    },
    {
      "cell_type": "markdown",
      "metadata": {
        "id": "H40ZZj6XvNkH"
      },
      "source": [
        "## Step 4"
      ]
    },
    {
      "cell_type": "code",
      "execution_count": null,
      "metadata": {
        "colab": {
          "base_uri": "https://localhost:8080/"
        },
        "id": "w5aRTsshvMT0",
        "outputId": "b58cc9e4-7637-4e96-9a22-ba9de8ea079f"
      },
      "outputs": [
        {
          "output_type": "stream",
          "name": "stdout",
          "text": [
            "most_changes ['radio', 'mcgraw', 'assessment', 'sector', 'intelligence']\n"
          ]
        }
      ],
      "source": [
        "sorted = np.argsort(distances_4)\n",
        "most_changes = [w[a] for a in sorted[-5:]]\n",
        "print('most_changes',most_changes)\n",
        "# print([distances_4[a] for a in sorted[-10:]])\n",
        "m_distances = [[] for i in range(len(most_changes))]\n",
        "for i in range(len(most_changes)):\n",
        "  for j in range(10):\n",
        "    # d = 1 - cosine_similarity([E[i][j]], [E[i][0]])[0][0]\n",
        "    d = (K - len([a for a in most_similar[w[i]][j] if a in most_similar[w[i]][0]]))/K\n",
        "    m_distances[i].append(d)"
      ]
    },
    {
      "cell_type": "code",
      "source": [
        "distances_4"
      ],
      "metadata": {
        "id": "8N_IsESzJ0XR"
      },
      "execution_count": null,
      "outputs": []
    },
    {
      "cell_type": "code",
      "execution_count": null,
      "metadata": {
        "id": "wsa-PXRYcabL"
      },
      "outputs": [],
      "source": [
        "m_distances"
      ]
    },
    {
      "cell_type": "code",
      "execution_count": null,
      "metadata": {
        "colab": {
          "base_uri": "https://localhost:8080/",
          "height": 320
        },
        "id": "9Z1Fsvbsv-4V",
        "outputId": "cffeb573-a743-49ec-d8b4-c8b4a916fb5d"
      },
      "outputs": [
        {
          "output_type": "display_data",
          "data": {
            "image/png": "[encoded data removed]",
            "text/plain": [
              "<Figure size 720x360 with 1 Axes>"
            ]
          },
          "metadata": {
            "needs_background": "light"
          }
        }
      ],
      "source": [
        "from matplotlib import pyplot as plt\n",
        "# plt.rcParams['figure.figsize'] = [10, 5]\n",
        "for i in range(len(m_distances)):\n",
        "  plt.plot(m_distances[i], label=most_changes[i])\n",
        "plt.legend()\n",
        "plt.show()"
      ]
    }
  ],
  "metadata": {
    "colab": {
      "collapsed_sections": [
        "Eh8aYOMNfXPv"
      ],
      "name": "CSC2611 Basic Assignment and Lab.ipynb",
      "provenance": []
    },
    "kernelspec": {
      "display_name": "Python 3",
      "name": "python3"
    },
    "language_info": {
      "name": "python"
    }
  },
  "nbformat": 4,
  "nbformat_minor": 0
}